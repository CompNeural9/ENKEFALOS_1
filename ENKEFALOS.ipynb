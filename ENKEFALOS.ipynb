{
 "cells": [
  {
   "cell_type": "markdown",
   "id": "7b12580a",
   "metadata": {},
   "source": [
    "This notebook has all the componenets of the ENKEFALOS application. Run the cells in the order they are in to prevent errors and get all results. To run the code, highlight the cell you want and click \"Run\", or press Shift+Enter"
   ]
  },
  {
   "cell_type": "markdown",
   "id": "6fce79b9",
   "metadata": {},
   "source": [
    "# Setup"
   ]
  },
  {
   "cell_type": "markdown",
   "id": "3359d25f",
   "metadata": {},
   "source": [
    "Run the cell below. A GUI will pop up asking you to paste in your list of differentially expressed (DE) genes. Once you paste them in, you will not be able to alter your list unless you rerun the cell. Once the tool takes your genes in, you may exit the GUI.  "
   ]
  },
  {
   "cell_type": "code",
   "execution_count": null,
   "id": "2dc5434c",
   "metadata": {},
   "outputs": [],
   "source": [
    "import pandas as pd\n",
    "from tkinter import *\n",
    "from tkinter import scrolledtext\n",
    "import matplotlib.pyplot as plt\n",
    "import imageio as iio\n",
    "import matplotlib\n",
    "import numpy as np\n",
    "import math\n",
    "import statsmodels.formula.api as smf\n",
    "from statsmodels.stats.anova import anova_lm\n",
    "import requests\n",
    "from time import sleep\n",
    "import json\n",
    "import webbrowser\n",
    "import networkx as nx\n",
    "from matplotlib.pyplot import figure\n",
    "import itertools\n",
    "from watermark import watermark\n",
    "\n",
    "matplotlib.style.use('default')\n",
    "color_exc = '#006DDB'\n",
    "color_inh = '#920000'\n",
    "\n",
    "#File Paths for Bomkamp Data\n",
    "path_1 = \"online_table1.csv\"\n",
    "path_2 = \"online_table2.csv\"\n",
    "path_3 = \"online_table3.csv\"\n",
    "path_4 = \"online_table4.csv\"\n",
    "\n",
    "\n",
    "scores = pd.read_csv(path_1, index_col = 0)\n",
    "scores_all = pd.read_csv(path_2, index_col = 0)\n",
    "ephys = pd.read_csv(path_3, index_col = 0, low_memory = False)\n",
    "morph = pd.read_csv(path_4, index_col = 0, low_memory = False)\n",
    "\n",
    "ephys.index = [str(n) for n in ephys.index]\n",
    "morph.index = [str(n) for n in morph.index]\n",
    "\n",
    "tmp = scores_all.drop_duplicates('gene_entrez_id')\n",
    "tmp.index = tmp.gene_entrez_id.astype(str)\n",
    "id_to_symbol = tmp.gene_symbol.to_dict()\n",
    "symbol_to_id = {a:b for b,a in id_to_symbol.items()}\n",
    "\n",
    "property_labels = {'apamp': 'AP Amplitude', 'ahpamp': 'AHP Amplitude', 'aphw': 'AP Half-width', \n",
    "                   'maxfreq': 'Max Firing Frequency', 'tau' : 'Time Constant Tau', 'rmp': 'Resting Membrane Potential',\n",
    "                   'avg_isi': 'Average Interspike Interval', 'f_i_curve_slope': 'Input-Output Curve Slope',\n",
    "                   'cap' : 'Capacitance', 'sag': 'Sag', 'ri': 'Input Resistance', 'rheo': 'Rheobase',\n",
    "                   'adratio': 'Adaptation Ratio', 'apthr': 'AP Threshold', \n",
    "                   'latency' : 'Latency', 'isi_cv' : 'ISI CoV', \n",
    "                   'average_bifurcation_angle_local' : 'Bifurcation Angle', 'max_branch_order' : 'Max Branch Order', \n",
    "                   'branchiness' : 'Branchiness', 'total_length' : 'Total Length',\n",
    "                   'total_volume' : 'Total Volume', 'soma_surface' : 'Soma Surface', \n",
    "                   'E_PC1': 'Electrophysiology PC1','E_PC2': 'Electrophysiology PC2', \n",
    "                   'E_PC3': 'Electrophysiology PC3', \n",
    "                   'M_PC1': 'Morphology PC1', 'M_PC2': 'Morphology PC2', \n",
    "                   'M_PC3': 'Morphology PC3'}\n",
    "\n",
    "property_labels_units = {'apamp': 'AP Amplitude (mV)', 'ahpamp': 'AHP Amplitude (mV)', 'aphw': 'AP Half-width (ms)', \n",
    "                         'maxfreq': 'Max Firing\\nFrequency (Hz)',\n",
    "                         'tau' : 'Time Constant Tau (ms)', 'rmp': 'Resting Membrane Potential (mV)',\n",
    "                         'avg_isi': 'Average Interspike Interval (ms)', 'f_i_curve_slope': 'Input-Output Curve\\nSlope (Hz/pA)',\n",
    "                         'cap' : 'Capacitance (pF)', 'sag': 'Sag', 'ri': u'Input Resistance (MΩ)', 'rheo': 'Rheobase (pA)',\n",
    "                         'adratio': 'Adaptation Ratio', 'apthr': 'AP Threshold (mV)', \n",
    "                         'latency' : 'Latency (s)', 'isi_cv' : 'ISI CoV', \n",
    "                         'average_bifurcation_angle_local' : 'Bifurcation Angle (degrees)', 'max_branch_order' : 'Max Branch Order', \n",
    "                         'branchiness' : u'Branchiness\\n(branches/μm)', 'total_length' : u'Total Length (μm)',\n",
    "                         'total_volume' : u'Total Volume (μm^3)', 'soma_surface' : u'Soma Surface (μm^2)', \n",
    "                         'E_PC1': 'Electrophysiology PC1','E_PC2': 'Electrophysiology PC2', \n",
    "                         'E_PC3': 'Electrophysiology PC3', \n",
    "                         'M_PC1': 'Morphology PC1', 'M_PC2': 'Morphology PC2', \n",
    "                         'M_PC3': 'Morphology PC3'}\n",
    "\n",
    "props_morph = ['average_bifurcation_angle_local', 'branchiness', 'max_branch_order', 'total_length',\n",
    "               'total_volume', 'soma_surface', 'M_PC1', 'M_PC2', 'M_PC3']\n",
    "props_all = property_labels.keys()\n",
    "props_ephys = sorted(list(set(props_all).difference(set(props_morph))))\n",
    "property_table = pd.DataFrame(list(property_labels.keys()), list(property_labels.values()), columns = ['Abbreviation'])\n",
    "\n",
    "\n",
    "def make_scatter(gene, prop, ax = None, alpha = 0.6, s = 20, log = False, annotate_qvals = True):\n",
    "\n",
    "    # Set up axes\n",
    "    if ax == None:\n",
    "        fig, ax = plt.subplots()    \n",
    "    if log:\n",
    "        ax.set_yscale('log')\n",
    "\n",
    "    # Select data\n",
    "    if type(gene) == str:\n",
    "        gene = str(symbol_to_id[gene])\n",
    "    elif type(gene) == int:\n",
    "        gene = str(gene)\n",
    "    df = morph if prop in props_morph else ephys\n",
    "    line_labels = [{'exc': 1, 'inh': 0}[line.split('__')[-1]] for line in df.columns]\n",
    "    x = df.loc[gene]        \n",
    "    y = df.loc[prop]\n",
    "    line_labels_gene = line_labels\n",
    "    exc = [n > 0.5 for n in line_labels]\n",
    "    inh = [n <= 0.5 for n in line_labels]\n",
    "\n",
    "    # Remove zero values if there are too many\n",
    "    not_zero = [val > 0 for val in x]\n",
    "    x = x[not_zero]\n",
    "    y = y[not_zero]\n",
    "    exc = [a and b for a, b in zip(exc, not_zero)]\n",
    "    inh = [a and b for a, b in zip(inh, not_zero)]\n",
    "    line_labels_gene = [i for (i, v) in zip(line_labels_gene, not_zero) if v]\n",
    "\n",
    "    # Plot\n",
    "    x_exc = df.loc[:, exc].loc[gene]\n",
    "    y_exc = df.loc[:, exc].loc[prop]    \n",
    "    x_inh = df.loc[:, inh].loc[gene]\n",
    "    y_inh = df.loc[:, inh].loc[prop]    \n",
    "    \n",
    "    fit_all = np.polyfit(x, np.log10(y) if log else y, deg = 1)\n",
    "    fit_exc = np.polyfit(x_exc, np.log10(y_exc) if log else y_exc, deg = 1)\n",
    "    fit_inh = np.polyfit(x_inh, np.log10(y_inh) if log else y_inh, deg = 1)\n",
    "    \n",
    "\n",
    "    # Draw lines of best fit\n",
    "    lim_all = pd.Series([x.min(), x.max()])\n",
    "    lim_exc = pd.Series([x_exc.min(), x_exc.max()])\n",
    "    lim_inh = pd.Series([x_inh.min(), x_inh.max()])\n",
    "\n",
    "    for lim, fit, linestyle in zip([lim_all, lim_exc, lim_inh], [fit_all, fit_exc, fit_inh], ['k--', 'k-', 'k-']):\n",
    "        if log:\n",
    "            fit_line = 10**(lim * fit[0] + fit[1])\n",
    "        else:\n",
    "            fit_line = lim * fit[0] + fit[1]\n",
    "        ax.plot(lim, fit_line, linestyle, linewidth = 1)\n",
    "        \n",
    "    for x_subset, y_subset, color, marker in zip([x_inh, x_exc], [y_inh, y_exc], [color_inh, color_exc], ['o', 'D']):\n",
    "        ax.scatter(x_subset, y_subset, color = color, s = s, marker = marker, alpha = alpha)\n",
    "                \n",
    "    ax.set_xlabel(id_to_symbol[gene] + ' ($log_2$ CPM+1)')\n",
    "    ax.set_ylabel(property_labels_units[prop])\n",
    "    ax.spines['right'].set_visible(False)\n",
    "    ax.spines['top'].set_visible(False)\n",
    "    \n",
    "    # Annotate p-values for CI, CC, and Int models\n",
    "    if annotate_qvals:\n",
    "        if (scores_all[(scores_all.property == prop) & (scores_all.gene_entrez_id == int(gene))]).shape[0] > 0:\n",
    "            pvals = [np.round(scores_all[(scores_all.property == prop) & (scores_all.gene_entrez_id == int(gene))][pval].values[0], 3) for pval in ['FDR_gene', 'FDR_gene|class_anova', 'FDR_int_anova']]\n",
    "            ax.annotate('\\n'.join([label + ': q=' + str(pval) for label, pval in zip(['CI', 'CC', 'Int'], pvals)]), (1, 1), xycoords = 'axes fraction', ha = 'right', va = 'top')\n",
    "    \n",
    "def make_legend(ax, alpha = 0.6, s = 20):\n",
    "    i = ax.scatter([], [], color = color_inh, marker = 'o', s = s, alpha = alpha)\n",
    "    e = ax.scatter([], [], color = color_exc, marker = 'D', s = s, alpha = alpha)\n",
    "    ax.legend([i, e], ['Inhibitory', 'Excitatory'], bbox_to_anchor=(1, 1), loc= 'upper left', frameon = True)\n",
    "\n",
    "entry = input(\"Please enter the list of genes you would like to perform analyses on: \")\n",
    "genes_of_interest = entry.split()\n",
    "\n",
    "#Makes genes all upper case\n",
    "genes_of_interest = [gene.upper() for gene in genes_of_interest]\n",
    "\n",
    "#Takes genes from Bomkamp data and stores it in a list\n",
    "genes_in_data = scores_all['gene_symbol'].values.tolist()\n",
    "#Empty list which will take in genes from user's data that are also included in the Bomkamp data\n",
    "genes_of_interest_in_data = []\n",
    "\n",
    "#Method to see whether each gene in user's data is included in Bomkamp data or not\n",
    "def contains_gene (x):\n",
    "    if x in genes_in_data:\n",
    "        genes_of_interest_in_data.append(x)\n",
    "        \n",
    "for gene in genes_of_interest:\n",
    "    contains_gene(gene)\n",
    "\n",
    "if len(genes_of_interest_in_data) == 0:\n",
    "    print(\"Sorry, either the genes you are interested in are not included in our data, or do not have any significant relations under the FDR threshold you specified. Perhaps try again with another list!\")"
   ]
  },
  {
   "cell_type": "markdown",
   "id": "077b4381",
   "metadata": {},
   "source": [
    "# Significant Correlations\n",
    "\n",
    "This cell will ask you for a FDR value you would like to use for the analyses. Typically, anything less than 0.1 is recommended. Then, a table of genes from your list with significant electrophysiological/morphological correlations will be printed with their respective FDR values. "
   ]
  },
  {
   "cell_type": "code",
   "execution_count": null,
   "id": "e6504f82",
   "metadata": {},
   "outputs": [],
   "source": [
    "#FDR input (user's preference)\n",
    "FDR = float(input(\"Plese type in the FDR (significance value) which you would like to see for your genes of interest: \"))\n",
    "print ()\n",
    "\n",
    "#This is the table with all significant correlations from user's genes under their preffered FDR threshold. Sorted from lowest to highest FDR.    \n",
    "filtered_data = scores_all[(scores_all['gene_symbol'].isin(genes_of_interest_in_data)) & (scores_all['FDR_gene|class_anova'] < FDR)]\n",
    "filtered_data = filtered_data.sort_values(by=['FDR_gene|class_anova'])\n",
    "pd.set_option('display.max_rows', None)\n",
    "print (filtered_data[['gene_symbol', 'property', 'FDR_gene|class_anova']])\n",
    "print ()\n",
    "#filtered_data.to_excel(\"output.xlsx\", index = False)"
   ]
  },
  {
   "cell_type": "markdown",
   "id": "49884871",
   "metadata": {},
   "source": [
    "# Amount of Enriched Genes"
   ]
  },
  {
   "cell_type": "code",
   "execution_count": null,
   "id": "ec2d6f35",
   "metadata": {},
   "outputs": [],
   "source": [
    "#Tells user the amount of genes enriched with significant correlations based of the Bomkamp data\n",
    "enriched_genes = [*set(filtered_data['gene_symbol'].values.tolist())]\n",
    "print (\"These are the amount of genes enriched in your data: \", len(enriched_genes))\n",
    "print()"
   ]
  },
  {
   "cell_type": "markdown",
   "id": "34ddd121",
   "metadata": {},
   "source": [
    "# Genes with Correlations"
   ]
  },
  {
   "cell_type": "markdown",
   "id": "c39793cc",
   "metadata": {},
   "source": [
    "This cell will print only the genes that have significant correlations from your list."
   ]
  },
  {
   "cell_type": "code",
   "execution_count": null,
   "id": "d848f525",
   "metadata": {},
   "outputs": [],
   "source": [
    "#If user would like to see only which genes were enriched and nothing else, they can use this option. Designed so genes print out in the order\n",
    "#in which the user pasted their gens. If they pasted them from greatest to least expression value, the enriched genes with the highest expression\n",
    "#will be at the top and vice versa\n",
    "goi_id = []\n",
    "for gene in genes_of_interest_in_data:\n",
    "    if gene in filtered_data['gene_symbol'].values:\n",
    "        goi_id.append(gene)\n",
    "goi_id = pd.DataFrame(goi_id, columns = ['Genes'])\n",
    "print(goi_id)"
   ]
  },
  {
   "cell_type": "markdown",
   "id": "cb4f8f66",
   "metadata": {},
   "source": [
    "# STRING Call"
   ]
  },
  {
   "cell_type": "markdown",
   "id": "9cd3c903",
   "metadata": {},
   "source": [
    "A network diagram of all your enriched genes will be created using the STRING database. Nodes of the interactome will be tabulated for the number of interactions each one has. A table with the number of interactions of gene in the network has (from greatest to least) will be displayed."
   ]
  },
  {
   "cell_type": "code",
   "execution_count": null,
   "id": "121ee1bb",
   "metadata": {},
   "outputs": [],
   "source": [
    "#String API to call for website and file with correlations\n",
    "string_api_url = \"https://version-11-5.string-db.org/api\"\n",
    "output_format = \"tsv-no-header\"\n",
    "method_1 = \"network\"\n",
    "method_2 = \"get_link\"\n",
    "request_url_1 = \"/\".join([string_api_url, output_format, method_1])\n",
    "request_url_2 = \"/\".join([string_api_url, output_format, method_2])\n",
    "\n",
    "#Parameters for String API\n",
    "params = {\n",
    "    \"identifiers\" : \"%0d\".join(enriched_genes), # your proteins\n",
    "    \"species\" : 9606, # species NCBI identifier \n",
    "    \"network_flavor\": \"confidence\", # show confidence links\n",
    "    \"network_type\": \"functional\"\n",
    "    }\n",
    "\n",
    "response_1 = requests.post(request_url_1, data=params)\n",
    "response_2 = requests.post(request_url_2, data=params)\n",
    "\n",
    "\n",
    "#Creates a small data frame for the known/predicted interactions between each node\n",
    "all_interactions = pd.DataFrame(columns = ['Gene1', 'Gene2'])\n",
    "for line in response_1.text.strip().split(\"\\n\"):\n",
    "    l = line.strip().split(\"\\t\")\n",
    "    p1, p2 = l[2], l[3]\n",
    "    all_interactions.loc[len(all_interactions.index)] = [p1, p2]\n",
    "    ## filter the interaction according to experimental score\n",
    "    #experimental_score = float(l[10])\n",
    "    #if experimental_score > 0.4: \n",
    "    #print(\"\\t\".join([p1, p2, \"experimentally confirmed (prob. %.3f)\" % experimental_score]))\n",
    "\n",
    "#Drops duplicate interactions so we can just determine singular relations between each node\n",
    "interactions = all_interactions.drop_duplicates(ignore_index = True)\n",
    "\n",
    "#Gathers all the gene names from the interactions dataframe into one list, from which we can count the occurence of\n",
    "#each gene to get the number of interactions each has\n",
    "genes_in_interactions = []\n",
    "genes_in_interactions.extend(interactions['Gene1'].tolist())\n",
    "genes_in_interactions.extend(interactions['Gene2'].tolist())\n",
    "\n",
    "#Another list that removes the duplicates from genes_in_interactions for which we can say the number\n",
    "#of interactions each of the genes in this list has\n",
    "single_genes_in_interactions = [*set(genes_in_interactions)]\n",
    "\n",
    "#Prints node correlations for each gene\n",
    "print(\"Of the enriched genes from your data...\")\n",
    "n=0\n",
    "interactions_per_gene = pd.DataFrame(columns = ['Gene', '# of Interactions'])\n",
    "for gene in single_genes_in_interactions:\n",
    "    interactions_per_gene.loc[n] = [gene] + [int(genes_in_interactions.count(gene))]\n",
    "    #print(gene + \" has \" + str(genes_in_interactions.count(gene)) + \" node interaction(s).\")\n",
    "    n = n+1\n",
    "interactions_per_gene = interactions_per_gene.sort_values(by=['# of Interactions'], ascending = False)\n",
    "print(interactions_per_gene)\n",
    "print()\n",
    "\n",
    "#Opens STRING diagram on web\n",
    "webbrowser.open(response_2.text)\n"
   ]
  },
  {
   "cell_type": "markdown",
   "id": "558fa2c4",
   "metadata": {},
   "source": [
    "# Subset Network"
   ]
  },
  {
   "cell_type": "markdown",
   "id": "beaead2a",
   "metadata": {},
   "source": [
    "This cell will allow you to create a smaller subset netork (up to a select depth) from the larger gene network derived above using a gene of interest."
   ]
  },
  {
   "cell_type": "code",
   "execution_count": null,
   "id": "8321972a",
   "metadata": {},
   "outputs": [],
   "source": [
    "#Creates a subset diagram from the larger STRING network given a gene of interest\n",
    "G = nx.Graph()\n",
    "G = nx.from_pandas_edgelist(all_interactions, 'Gene1', 'Gene2')\n",
    "subset = True\n",
    "while subset == True:\n",
    "    which_subset = input(\"Enter a gene for which you would like to see your subset gene network: \")\n",
    "    connected_nodes = nx.node_connected_component(G, which_subset.upper())\n",
    "    params_1 = {\n",
    "    \"identifiers\" : \"%0d\".join(connected_nodes), # your proteins\n",
    "    \"species\" : 9606, # species NCBI identifier \n",
    "    \"network_flavor\": \"confidence\", # show confidence links\n",
    "    \"network_type\": \"functional\"\n",
    "    }\n",
    "    response_3 = requests.post(request_url_2, data=params_1)\n",
    "    webbrowser.open(response_3.text)\n",
    "    #Creates a smaller subset if user would like\n",
    "    smaller_subset =  input(\"Would you like to see a smaller network up to a set number of connections in you network? (Y)es or (N)o: \")\n",
    "    if smaller_subset.lower() == \"y\":\n",
    "        limit = int(input(\"What would you like to be the depth limit? \"))\n",
    "        T = nx.dfs_edges(G, source=which_subset.upper(), depth_limit=limit)\n",
    "        result = list(itertools.chain(*T))\n",
    "        params_2 = {\n",
    "        \"identifiers\" : \"%0d\".join(result), # your proteins\n",
    "        \"species\" : 9606, # species NCBI identifier \n",
    "        \"network_flavor\": \"confidence\", # show confidence links\n",
    "        \"network_type\": \"functional\"\n",
    "        }\n",
    "        response_4 = requests.post(request_url_2, data=params_2)\n",
    "        webbrowser.open(response_4.text)       \n",
    "    again_subset = input(\"Would you like to see a subset network for another gene of your interest? (Y)es of (N)o: \")\n",
    "    if again_subset.lower() == \"n\":\n",
    "        subset = False"
   ]
  },
  {
   "cell_type": "markdown",
   "id": "a97a697f",
   "metadata": {},
   "source": [
    "# Correlation Graphs"
   ]
  },
  {
   "cell_type": "markdown",
   "id": "77424aeb",
   "metadata": {},
   "source": [
    "Will allow you to get the correlation graphs of your genes of interest."
   ]
  },
  {
   "cell_type": "code",
   "execution_count": null,
   "id": "84aa3d67",
   "metadata": {},
   "outputs": [],
   "source": [
    "#Code for printing scatter plots for one gene's correlations\n",
    "##Problem: Graph's dimensions kind of weird, will probably have to change them \n",
    "def print_graph(x):\n",
    "    gene = x.upper()\n",
    "    measures = props_ephys + props_morph\n",
    "    genes = [gene] * len(measures)\n",
    "    # Set up axes\n",
    "    xy = int(math.ceil(np.sqrt(len(genes))))\n",
    "    fig, axes = plt.subplots(xy, xy, figsize = (xy * 5, xy * 5))\n",
    "\n",
    "    for graph_gene, measure, ax in zip(genes, measures, axes.flat):\n",
    "        make_scatter(gene, measure, ax)\n",
    "    make_legend(ax)\n",
    "    for ax in axes.flat[len(genes):]:\n",
    "        ax.axis('off')   \n",
    "    fig.tight_layout()\n",
    "    plt.show()\n",
    "\n",
    "#Loop that keeps asking user if they would like to print graphs for their genes until they say No\n",
    "ask_for_graph = True\n",
    "while ask_for_graph == True:\n",
    "    ask_gene = input(\"Enter a gene for which you would like to create your graphs: \")\n",
    "    print_graph(ask_gene)\n",
    "    again = input(\"Would you like to see other graphs for another gene of your interest? (Y)es of (N)o: \")\n",
    "    if again.lower() == \"n\":\n",
    "        ask_for_graph = False"
   ]
  },
  {
   "cell_type": "markdown",
   "id": "7e2ca45f",
   "metadata": {},
   "source": [
    "# Plot Data"
   ]
  },
  {
   "cell_type": "markdown",
   "id": "4d088ee3",
   "metadata": {},
   "source": [
    "Will allow the user to obtain the plot data for a gene of interest as well as the data for each of the electrophysiological/morphological properties that gene was significantly correlated with."
   ]
  },
  {
   "cell_type": "code",
   "execution_count": null,
   "id": "274870ee",
   "metadata": {
    "scrolled": false
   },
   "outputs": [],
   "source": [
    "#Plot Data for a gene of interest and its significant correlations\n",
    "gene_plot_data = input(\"Enter a gene for which you would like to see plot data: \")\n",
    "gene_plot_data = gene_plot_data.upper()\n",
    "gene_plot_data_id = str(symbol_to_id[gene_plot_data])\n",
    "df = ephys\n",
    "line_labels = [{'exc': 1, 'inh': 0}[line.split('__')[-1]] for line in df.columns]\n",
    "sig_corr = filtered_data[(filtered_data['gene_symbol'] == gene_plot_data)]\n",
    "prop_and_gene = sig_corr['property'].to_list()  \n",
    "prop_and_gene.append(gene_plot_data_id)\n",
    "exc = [n > 0.5 for n in line_labels]\n",
    "inh = [n <= 0.5 for n in line_labels]\n",
    "exc_data = pd.DataFrame(df.loc[:, exc].loc[prop_and_gene])\n",
    "exc_data = exc_data.transpose()\n",
    "exc_data = exc_data.rename(columns = {gene_plot_data_id : gene_plot_data})\n",
    "print(exc_data)\n",
    "inh_data = pd.DataFrame(df.loc[:, inh].loc[prop_and_gene])\n",
    "inh_data = inh_data.transpose()\n",
    "inh_data = inh_data.rename(columns = {gene_plot_data_id : gene_plot_data})\n",
    "print(inh_data)"
   ]
  },
  {
   "cell_type": "markdown",
   "id": "3ef5beae",
   "metadata": {},
   "source": [
    "# Correlation Graphs (Single Relation)"
   ]
  },
  {
   "cell_type": "markdown",
   "id": "0030b37f",
   "metadata": {},
   "source": [
    "Will allow the user to obtain a correlation graph of a gene and property of their choice. When specifiying the property, the user must use one of the abbreviations listed below in order for the cell to work (run the 'property_table' cell for the abbreviations' table). The code is case sensitive, however, so the abbreviations for the properties must be typed in how they are listed. Genes can be typed in the same way as before. "
   ]
  },
  {
   "cell_type": "code",
   "execution_count": null,
   "id": "49d42d60",
   "metadata": {},
   "outputs": [],
   "source": [
    "property_table"
   ]
  },
  {
   "cell_type": "code",
   "execution_count": null,
   "id": "422ba101",
   "metadata": {},
   "outputs": [],
   "source": [
    "# Scatter plot for a single gene and property\n",
    "def print_plot(x, y):\n",
    "    gene = x.upper()\n",
    "    measure = y\n",
    "    make_scatter(gene, measure)\n",
    "    make_legend(plt.gca())\n",
    "    plt.show()\n",
    "#Loop that keeps asking user if they would like to print graphs for their genes until they say No\n",
    "ask_for_graph = True\n",
    "while ask_for_graph == True:\n",
    "    ask_gene = input(\"Enter a gene for which you would like to create your graphs: \")\n",
    "    ask_prop = input(\"Enter a property for which you would like to see your gene's relation with (use the abbreviations sepcified above): \")\n",
    "    print_plot(ask_gene, ask_prop)\n",
    "    again = input(\"Would you like to see other graphs for another gene of your interest? (Y)es of (N)o: \")\n",
    "    if again.lower() == \"n\":\n",
    "        ask_for_graph = False\n",
    "        "
   ]
  }
 ],
 "metadata": {
  "kernelspec": {
   "display_name": "Python 3 (ipykernel)",
   "language": "python",
   "name": "python3"
  },
  "language_info": {
   "codemirror_mode": {
    "name": "ipython",
    "version": 3
   },
   "file_extension": ".py",
   "mimetype": "text/x-python",
   "name": "python",
   "nbconvert_exporter": "python",
   "pygments_lexer": "ipython3",
   "version": "3.11.1"
  }
 },
 "nbformat": 4,
 "nbformat_minor": 5
}
